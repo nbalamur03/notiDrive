{
 "cells": [
  {
   "cell_type": "code",
   "execution_count": 1,
   "id": "d979a036-a2bb-4589-9db9-2d1f8853d0bf",
   "metadata": {},
   "outputs": [
    {
     "name": "stdout",
     "output_type": "stream",
     "text": [
      "Requirement already satisfied: carla in c:\\users\\cogni\\appdata\\local\\programs\\python\\python38\\lib\\site-packages (0.9.14)\n"
     ]
    }
   ],
   "source": [
    "!pip install carla"
   ]
  },
  {
   "cell_type": "code",
   "execution_count": 2,
   "id": "cf2f2213-2f99-410e-99ca-93f8036b48b0",
   "metadata": {},
   "outputs": [],
   "source": [
    "import carla\n",
    "import math\n",
    "import random\n",
    "import time"
   ]
  },
  {
   "cell_type": "code",
   "execution_count": 3,
   "id": "421936b1-eb7b-41fd-9763-fb2501bf135f",
   "metadata": {},
   "outputs": [],
   "source": [
    "client = carla.Client('localhost', 2000)\n",
    "world = client.get_world()"
   ]
  },
  {
   "cell_type": "code",
   "execution_count": 4,
   "id": "7ad9d946-3909-4bff-8f0c-651e25f0d287",
   "metadata": {},
   "outputs": [],
   "source": [
    "bp_lib = world.get_blueprint_library()\n",
    "spawn_point = world.get_map().get_spawn_points()"
   ]
  },
  {
   "cell_type": "code",
   "execution_count": 8,
   "id": "f7daad5a-dc4e-4016-bc68-78113cdc4251",
   "metadata": {},
   "outputs": [],
   "source": [
    "vehicle_bp = bp_lib.find('vehicle.lincoln.mkz_2020')\n",
    "vehicle = world.try_spawn_actor(vehicle_bp, random.choice(spawn_point))\n"
   ]
  },
  {
   "cell_type": "code",
   "execution_count": 10,
   "id": "b339b64a-9217-40dc-a16d-9cf07722c4f3",
   "metadata": {},
   "outputs": [],
   "source": [
    "spectator = world.get_spectator()\n",
    "transform = carla.Transform(vehicle.get_transform().transform(carla.Location(x=-4, z=2.5)), vehicle.get_transform().rotation)"
   ]
  },
  {
   "cell_type": "code",
   "execution_count": 11,
   "id": "b1ac4f2d-3d46-49a6-a406-dd6144d08195",
   "metadata": {},
   "outputs": [],
   "source": [
    "spectator.set_transform(transform)"
   ]
  },
  {
   "cell_type": "code",
   "execution_count": 12,
   "id": "0e898825-c8c1-437b-af4d-c03780848e81",
   "metadata": {},
   "outputs": [],
   "source": [
    "import carla\n",
    "import random\n",
    "\n",
    "# Connect to the client and retrieve the world object\n",
    "client = carla.Client('localhost', 2000)\n",
    "world = client.get_world()\n",
    "\n",
    "# Set up the simulator in synchronous mode\n",
    "settings = world.get_settings()\n",
    "settings.synchronous_mode = True # Enables synchronous mode\n",
    "settings.fixed_delta_seconds = 0.05\n",
    "world.apply_settings(settings)\n",
    "\n",
    "# Set up the TM in synchronous mode\n",
    "traffic_manager = client.get_trafficmanager()\n",
    "traffic_manager.set_synchronous_mode(True)\n",
    "\n",
    "# Set a seed so behaviour can be repeated if necessary\n",
    "traffic_manager.set_random_device_seed(0)\n",
    "random.seed(0)\n",
    "\n",
    "# We will aslo set up the spectator so we can see what we do\n",
    "spectator = world.get_spectator()"
   ]
  },
  {
   "cell_type": "code",
   "execution_count": null,
   "id": "15343dab-fc7d-40b6-903f-8de6a9e874a7",
   "metadata": {},
   "outputs": [],
   "source": []
  }
 ],
 "metadata": {
  "kernelspec": {
   "display_name": "Python 3 (ipykernel)",
   "language": "python",
   "name": "python3"
  },
  "language_info": {
   "codemirror_mode": {
    "name": "ipython",
    "version": 3
   },
   "file_extension": ".py",
   "mimetype": "text/x-python",
   "name": "python",
   "nbconvert_exporter": "python",
   "pygments_lexer": "ipython3",
   "version": "3.8.0"
  }
 },
 "nbformat": 4,
 "nbformat_minor": 5
}
